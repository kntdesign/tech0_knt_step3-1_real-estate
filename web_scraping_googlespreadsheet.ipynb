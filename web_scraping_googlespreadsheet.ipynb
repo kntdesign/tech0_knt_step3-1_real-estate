{
 "cells": [
  {
   "cell_type": "code",
   "execution_count": 1,
   "metadata": {},
   "outputs": [
    {
     "name": "stdout",
     "output_type": "stream",
     "text": [
      "Requirement already satisfied: gspread in /Users/kento/opt/anaconda3/lib/python3.9/site-packages (5.12.2)\n",
      "Requirement already satisfied: google-auth>=1.12.0 in /Users/kento/opt/anaconda3/lib/python3.9/site-packages (from gspread) (2.24.0)\n",
      "Requirement already satisfied: google-auth-oauthlib>=0.4.1 in /Users/kento/opt/anaconda3/lib/python3.9/site-packages (from gspread) (1.1.0)\n",
      "Requirement already satisfied: cachetools<6.0,>=2.0.0 in /Users/kento/opt/anaconda3/lib/python3.9/site-packages (from google-auth>=1.12.0->gspread) (5.3.1)\n",
      "Requirement already satisfied: pyasn1-modules>=0.2.1 in /Users/kento/opt/anaconda3/lib/python3.9/site-packages (from google-auth>=1.12.0->gspread) (0.3.0)\n",
      "Requirement already satisfied: rsa<5,>=3.1.4 in /Users/kento/opt/anaconda3/lib/python3.9/site-packages (from google-auth>=1.12.0->gspread) (4.9)\n",
      "Requirement already satisfied: requests-oauthlib>=0.7.0 in /Users/kento/opt/anaconda3/lib/python3.9/site-packages (from google-auth-oauthlib>=0.4.1->gspread) (1.3.1)\n",
      "Requirement already satisfied: pyasn1<0.6.0,>=0.4.6 in /Users/kento/opt/anaconda3/lib/python3.9/site-packages (from pyasn1-modules>=0.2.1->google-auth>=1.12.0->gspread) (0.5.1)\n",
      "Requirement already satisfied: oauthlib>=3.0.0 in /Users/kento/opt/anaconda3/lib/python3.9/site-packages (from requests-oauthlib>=0.7.0->google-auth-oauthlib>=0.4.1->gspread) (3.2.2)\n",
      "Requirement already satisfied: requests>=2.0.0 in /Users/kento/opt/anaconda3/lib/python3.9/site-packages (from requests-oauthlib>=0.7.0->google-auth-oauthlib>=0.4.1->gspread) (2.31.0)\n",
      "Requirement already satisfied: charset-normalizer<4,>=2 in /Users/kento/opt/anaconda3/lib/python3.9/site-packages (from requests>=2.0.0->requests-oauthlib>=0.7.0->google-auth-oauthlib>=0.4.1->gspread) (2.0.4)\n",
      "Requirement already satisfied: idna<4,>=2.5 in /Users/kento/opt/anaconda3/lib/python3.9/site-packages (from requests>=2.0.0->requests-oauthlib>=0.7.0->google-auth-oauthlib>=0.4.1->gspread) (3.2)\n",
      "Requirement already satisfied: urllib3<3,>=1.21.1 in /Users/kento/opt/anaconda3/lib/python3.9/site-packages (from requests>=2.0.0->requests-oauthlib>=0.7.0->google-auth-oauthlib>=0.4.1->gspread) (1.26.7)\n",
      "Requirement already satisfied: certifi>=2017.4.17 in /Users/kento/opt/anaconda3/lib/python3.9/site-packages (from requests>=2.0.0->requests-oauthlib>=0.7.0->google-auth-oauthlib>=0.4.1->gspread) (2021.10.8)\n",
      "Requirement already satisfied: google-auth in /Users/kento/opt/anaconda3/lib/python3.9/site-packages (2.24.0)\n",
      "Requirement already satisfied: cachetools<6.0,>=2.0.0 in /Users/kento/opt/anaconda3/lib/python3.9/site-packages (from google-auth) (5.3.1)\n",
      "Requirement already satisfied: pyasn1-modules>=0.2.1 in /Users/kento/opt/anaconda3/lib/python3.9/site-packages (from google-auth) (0.3.0)\n",
      "Requirement already satisfied: rsa<5,>=3.1.4 in /Users/kento/opt/anaconda3/lib/python3.9/site-packages (from google-auth) (4.9)\n",
      "Requirement already satisfied: pyasn1<0.6.0,>=0.4.6 in /Users/kento/opt/anaconda3/lib/python3.9/site-packages (from pyasn1-modules>=0.2.1->google-auth) (0.5.1)\n",
      "Requirement already satisfied: gspread-dataframe in /Users/kento/opt/anaconda3/lib/python3.9/site-packages (3.3.1)\n",
      "Requirement already satisfied: gspread>=3.0.0 in /Users/kento/opt/anaconda3/lib/python3.9/site-packages (from gspread-dataframe) (5.12.2)\n",
      "Requirement already satisfied: pandas>=0.24.0 in /Users/kento/opt/anaconda3/lib/python3.9/site-packages (from gspread-dataframe) (1.3.4)\n",
      "Requirement already satisfied: six>=1.12.0 in /Users/kento/opt/anaconda3/lib/python3.9/site-packages (from gspread-dataframe) (1.16.0)\n",
      "Requirement already satisfied: google-auth>=1.12.0 in /Users/kento/opt/anaconda3/lib/python3.9/site-packages (from gspread>=3.0.0->gspread-dataframe) (2.24.0)\n",
      "Requirement already satisfied: google-auth-oauthlib>=0.4.1 in /Users/kento/opt/anaconda3/lib/python3.9/site-packages (from gspread>=3.0.0->gspread-dataframe) (1.1.0)\n",
      "Requirement already satisfied: python-dateutil>=2.7.3 in /Users/kento/opt/anaconda3/lib/python3.9/site-packages (from pandas>=0.24.0->gspread-dataframe) (2.8.2)\n",
      "Requirement already satisfied: pytz>=2017.3 in /Users/kento/opt/anaconda3/lib/python3.9/site-packages (from pandas>=0.24.0->gspread-dataframe) (2023.3.post1)\n",
      "Requirement already satisfied: numpy>=1.17.3 in /Users/kento/opt/anaconda3/lib/python3.9/site-packages (from pandas>=0.24.0->gspread-dataframe) (1.22.4)\n",
      "Requirement already satisfied: cachetools<6.0,>=2.0.0 in /Users/kento/opt/anaconda3/lib/python3.9/site-packages (from google-auth>=1.12.0->gspread>=3.0.0->gspread-dataframe) (5.3.1)\n",
      "Requirement already satisfied: pyasn1-modules>=0.2.1 in /Users/kento/opt/anaconda3/lib/python3.9/site-packages (from google-auth>=1.12.0->gspread>=3.0.0->gspread-dataframe) (0.3.0)\n",
      "Requirement already satisfied: rsa<5,>=3.1.4 in /Users/kento/opt/anaconda3/lib/python3.9/site-packages (from google-auth>=1.12.0->gspread>=3.0.0->gspread-dataframe) (4.9)\n",
      "Requirement already satisfied: requests-oauthlib>=0.7.0 in /Users/kento/opt/anaconda3/lib/python3.9/site-packages (from google-auth-oauthlib>=0.4.1->gspread>=3.0.0->gspread-dataframe) (1.3.1)\n",
      "Requirement already satisfied: pyasn1<0.6.0,>=0.4.6 in /Users/kento/opt/anaconda3/lib/python3.9/site-packages (from pyasn1-modules>=0.2.1->google-auth>=1.12.0->gspread>=3.0.0->gspread-dataframe) (0.5.1)\n",
      "Requirement already satisfied: oauthlib>=3.0.0 in /Users/kento/opt/anaconda3/lib/python3.9/site-packages (from requests-oauthlib>=0.7.0->google-auth-oauthlib>=0.4.1->gspread>=3.0.0->gspread-dataframe) (3.2.2)\n",
      "Requirement already satisfied: requests>=2.0.0 in /Users/kento/opt/anaconda3/lib/python3.9/site-packages (from requests-oauthlib>=0.7.0->google-auth-oauthlib>=0.4.1->gspread>=3.0.0->gspread-dataframe) (2.31.0)\n",
      "Requirement already satisfied: charset-normalizer<4,>=2 in /Users/kento/opt/anaconda3/lib/python3.9/site-packages (from requests>=2.0.0->requests-oauthlib>=0.7.0->google-auth-oauthlib>=0.4.1->gspread>=3.0.0->gspread-dataframe) (2.0.4)\n",
      "Requirement already satisfied: idna<4,>=2.5 in /Users/kento/opt/anaconda3/lib/python3.9/site-packages (from requests>=2.0.0->requests-oauthlib>=0.7.0->google-auth-oauthlib>=0.4.1->gspread>=3.0.0->gspread-dataframe) (3.2)\n",
      "Requirement already satisfied: urllib3<3,>=1.21.1 in /Users/kento/opt/anaconda3/lib/python3.9/site-packages (from requests>=2.0.0->requests-oauthlib>=0.7.0->google-auth-oauthlib>=0.4.1->gspread>=3.0.0->gspread-dataframe) (1.26.7)\n",
      "Requirement already satisfied: certifi>=2017.4.17 in /Users/kento/opt/anaconda3/lib/python3.9/site-packages (from requests>=2.0.0->requests-oauthlib>=0.7.0->google-auth-oauthlib>=0.4.1->gspread>=3.0.0->gspread-dataframe) (2021.10.8)\n"
     ]
    }
   ],
   "source": [
    "!pip install gspread\n",
    "!pip install google-auth\n",
    "!pip install gspread-dataframe"
   ]
  },
  {
   "cell_type": "code",
   "execution_count": 2,
   "metadata": {},
   "outputs": [],
   "source": [
    "import pandas as pd # スプレッドシートから得たデータをデータフレームに変換する機能をインポートし、省略してpdと呼べるようにas pdを付ける\n",
    "import gspread # スプレッドシートのデータを扱うライブラリをインポート\n",
    "from google.oauth2.service_account import Credentials # スプレッドシートの認証機能をインポート\n",
    "from gspread_dataframe import set_with_dataframe # スプレッドシートのデータとpandasライブラリのデータを紐づける機能をインポート\n",
    "\n",
    "from dotenv import load_dotenv #envファイルを用いた情報を隠す方法を連携\n",
    "load_dotenv()\n",
    "import os"
   ]
  },
  {
   "cell_type": "code",
   "execution_count": 3,
   "metadata": {},
   "outputs": [],
   "source": [
    "# 認証のために機能役割を決めるアクセス先をscopesに設定\n",
    "scopes = [\n",
    "    'https://www.googleapis.com/auth/spreadsheets',\n",
    "    'https://www.googleapis.com/auth/drive'\n",
    "]\n",
    "#.envで設定した変数を取得する\n",
    "sp_sheet_key = os.getenv('sp_sheet_key')\n",
    "service_account_file = os.getenv('service_account_file')\n",
    "\n",
    "# その役割の許可をもらうAPIキーをservice_account_new.jsonから読み込み、credentialsに代入\n",
    "# 認証キーを使うアクセス先をscopesに代入\n",
    "credentials = Credentials.from_service_account_file(\n",
    "    service_account_file, #Google CloudからDLした認証キーのファイルを設定する\n",
    "    scopes=scopes\n",
    ")\n",
    "\n",
    "# 認証情報を格納しているcredentialsを使って、gspread.authorizeでスプレッドシートの使用許可を取り、その認証結果をgcに代入\n",
    "gc = gspread.authorize(credentials)"
   ]
  },
  {
   "cell_type": "code",
   "execution_count": 4,
   "metadata": {},
   "outputs": [],
   "source": [
    "# 使用するスプレッドシートのアクセス先をSP_SHEET_KEYに代入\n",
    "# 開きたいスプレッドシートを認証結果を格納したgcを使ってgc.open_by_keyで開く\n",
    "sh = gc.open_by_key(sp_sheet_key)\n",
    "\n",
    "# 参照するシート名をSP_SHEETに代入\n",
    "SP_SHEET = 'suumo_data'\n",
    "\n",
    "# gc.open_by_keyで開いたスプレッドシートのsampleシートをsh.worksheet(SP_SHEET)で情報を得て、worksheetに代入する\n",
    "worksheet = sh.worksheet(SP_SHEET)"
   ]
  },
  {
   "cell_type": "code",
   "execution_count": 5,
   "metadata": {},
   "outputs": [],
   "source": [
    "#csvデータの読み込み\n",
    "df = pd.read_csv('suumo_data_cleansing.csv') #前回クレンジングを行ったcsvデータを読み込む\n",
    "df\n",
    "\n",
    "df_upload = df # スクレイピングで取得した新しいデータdfをdf_newに代入\n",
    "\n",
    "set_with_dataframe(sh.worksheet(SP_SHEET), df_upload, include_index=False) # set_with_dataframe(スプレッドシート名,対象データ,データフレームで自動生成されるindex数字を含むかどうか)"
   ]
  }
 ],
 "metadata": {
  "kernelspec": {
   "display_name": "Python 3",
   "language": "python",
   "name": "python3"
  },
  "language_info": {
   "codemirror_mode": {
    "name": "ipython",
    "version": 3
   },
   "file_extension": ".py",
   "mimetype": "text/x-python",
   "name": "python",
   "nbconvert_exporter": "python",
   "pygments_lexer": "ipython3",
   "version": "3.9.7"
  }
 },
 "nbformat": 4,
 "nbformat_minor": 2
}
